{
 "cells": [
  {
   "cell_type": "code",
   "execution_count": 1,
   "metadata": {},
   "outputs": [],
   "source": [
    "#loops\n",
    "#for\n",
    "#while\n",
    "\n"
   ]
  },
  {
   "cell_type": "code",
   "execution_count": 2,
   "metadata": {},
   "outputs": [
    {
     "ename": "SyntaxError",
     "evalue": "invalid syntax (<ipython-input-2-e6fa20459a25>, line 2)",
     "output_type": "error",
     "traceback": [
      "\u001b[1;36m  File \u001b[1;32m\"<ipython-input-2-e6fa20459a25>\"\u001b[1;36m, line \u001b[1;32m2\u001b[0m\n\u001b[1;33m    for i in range(arg):-->int\u001b[0m\n\u001b[1;37m                         ^\u001b[0m\n\u001b[1;31mSyntaxError\u001b[0m\u001b[1;31m:\u001b[0m invalid syntax\n"
     ]
    }
   ],
   "source": [
    "#syntax of for\n",
    "for i in range(arg):-->int\n",
    "for i in variable_name:-->string"
   ]
  },
  {
   "cell_type": "code",
   "execution_count": 5,
   "metadata": {},
   "outputs": [
    {
     "name": "stdout",
     "output_type": "stream",
     "text": [
      "0\n",
      "1\n",
      "2\n",
      "3\n",
      "4\n",
      "5\n",
      "6\n",
      "7\n",
      "8\n",
      "9\n"
     ]
    }
   ],
   "source": [
    "#print numbers(single parameters)\n",
    "for i in range(10):\n",
    "    print(i)\n",
    "    "
   ]
  },
  {
   "cell_type": "code",
   "execution_count": 6,
   "metadata": {},
   "outputs": [
    {
     "name": "stdout",
     "output_type": "stream",
     "text": [
      "1\n",
      "2\n",
      "3\n",
      "4\n",
      "5\n",
      "6\n",
      "7\n",
      "8\n",
      "9\n"
     ]
    }
   ],
   "source": [
    "for i in range(1,10):\n",
    "    print(i)"
   ]
  },
  {
   "cell_type": "code",
   "execution_count": 7,
   "metadata": {},
   "outputs": [
    {
     "name": "stdout",
     "output_type": "stream",
     "text": [
      "1\n",
      "2\n",
      "3\n",
      "4\n",
      "5\n",
      "6\n",
      "7\n",
      "8\n",
      "9\n",
      "10\n"
     ]
    }
   ],
   "source": [
    "for i in range(1,11):\n",
    "    print(i)\n",
    "    "
   ]
  },
  {
   "cell_type": "code",
   "execution_count": 8,
   "metadata": {},
   "outputs": [
    {
     "name": "stdout",
     "output_type": "stream",
     "text": [
      "1\n",
      "3\n",
      "5\n",
      "7\n",
      "9\n"
     ]
    }
   ],
   "source": [
    "#step count\n",
    "for i in range(1,11,2):\n",
    "    print(i)\n",
    "    "
   ]
  },
  {
   "cell_type": "code",
   "execution_count": 11,
   "metadata": {},
   "outputs": [
    {
     "name": "stdout",
     "output_type": "stream",
     "text": [
      "enter value a1\n",
      "enter value b9\n",
      "2\n",
      "4\n",
      "6\n",
      "8\n"
     ]
    }
   ],
   "source": [
    "#even \n",
    "a=int(input(\"enter value a\"))\n",
    "b=int(input(\"enter value b\"))\n",
    "for i in range(a,b):\n",
    "    if(i%2==0):\n",
    "        print(i)"
   ]
  },
  {
   "cell_type": "code",
   "execution_count": 3,
   "metadata": {},
   "outputs": [
    {
     "name": "stdout",
     "output_type": "stream",
     "text": [
      "enter the number10\n",
      "45\n",
      "4.5\n"
     ]
    }
   ],
   "source": [
    "#print n natural numbers and average of that n natural numbers\n",
    "n=int(input(\"enter the number\"))\n",
    "sum=0\n",
    "for i in range(n):\n",
    "    sum=sum+i\n",
    "print(sum)\n",
    "average=sum/n\n",
    "print(average)\n"
   ]
  },
  {
   "cell_type": "code",
   "execution_count": 7,
   "metadata": {},
   "outputs": [
    {
     "name": "stdout",
     "output_type": "stream",
     "text": [
      "5\n",
      "7\n",
      "sum is: 18\n",
      "average is: 6.0\n"
     ]
    }
   ],
   "source": [
    "a=int(input())\n",
    "b=int(input())\n",
    "sum=0\n",
    "count=0\n",
    "for i in range(a,b+1):\n",
    "        count=count+1\n",
    "        sum=sum+i\n",
    "print(\"sum is:\",sum)\n",
    "print(\"average is:\",sum/count)\n",
    "    "
   ]
  },
  {
   "cell_type": "code",
   "execution_count": 8,
   "metadata": {},
   "outputs": [
    {
     "name": "stdout",
     "output_type": "stream",
     "text": [
      "2\n",
      "5\n",
      "sum is: 9\n",
      "average is: 3.0\n"
     ]
    }
   ],
   "source": [
    "a=(input())\n",
    "b=(input())\n",
    "sum=0\n",
    "count=0\n",
    "for i in range(int(a),int(b)):\n",
    "        count=count+1\n",
    "        sum=sum+int(i)\n",
    "print(\"sum is:\",sum)\n",
    "print(\"average is:\",sum/count)\n",
    "    "
   ]
  },
  {
   "cell_type": "code",
   "execution_count": 10,
   "metadata": {},
   "outputs": [
    {
     "name": "stdout",
     "output_type": "stream",
     "text": [
      "2\n",
      "2\n"
     ]
    }
   ],
   "source": [
    "#factorial of a number\n",
    "n=int(input())\n",
    "fact=1\n",
    "for i in range(1,n+1):\n",
    "    fact=fact*i\n",
    "print(fact)\n"
   ]
  },
  {
   "cell_type": "code",
   "execution_count": 12,
   "metadata": {},
   "outputs": [
    {
     "name": "stdout",
     "output_type": "stream",
     "text": [
      "5\n",
      "5 num is prime\n"
     ]
    }
   ],
   "source": [
    "#check given number is prime or not\n",
    "n=int(input())\n",
    "if n>1:\n",
    "    for i in range(2,int(n/2+1)):\n",
    "        if(n%i)==0:\n",
    "            print(n,\"num is not prime\")\n",
    "        else:\n",
    "            print(n,\"num is prime\")\n",
    "        "
   ]
  },
  {
   "cell_type": "code",
   "execution_count": 20,
   "metadata": {},
   "outputs": [
    {
     "name": "stdout",
     "output_type": "stream",
     "text": [
      "enter the number6\n",
      "6 is a perfect number\n"
     ]
    }
   ],
   "source": [
    "#check the given number is perfect number or not\n",
    "num=int(input(\"enter the number\"))\n",
    "sum=0\n",
    "for i in range(1,num):\n",
    "    if(num%i==0):\n",
    "        sum=sum+i\n",
    "if(sum==num):\n",
    "    print(num,\"is a perfect number\")\n",
    "else:\n",
    "    print(num,\"is not a perfect number\")\n",
    "            "
   ]
  },
  {
   "cell_type": "code",
   "execution_count": 26,
   "metadata": {},
   "outputs": [
    {
     "name": "stdout",
     "output_type": "stream",
     "text": [
      "enter the number4\n",
      "4 * 1 = 4\n",
      "4 * 2 = 8\n",
      "4 * 3 = 12\n",
      "4 * 4 = 16\n",
      "4 * 5 = 20\n",
      "4 * 6 = 24\n",
      "4 * 7 = 28\n",
      "4 * 8 = 32\n",
      "4 * 9 = 36\n",
      "4 * 10 = 40\n"
     ]
    }
   ],
   "source": [
    "#multiplication table\n",
    "num=int(input(\"enter the number\"))\n",
    "for i in range(1,11):\n",
    "    print(num,'*',i,'=',num*i)"
   ]
  },
  {
   "cell_type": "code",
   "execution_count": 28,
   "metadata": {},
   "outputs": [],
   "source": [
    "#Assci values\n",
    "#ord()-->parameter is string value (character)\n",
    "#chr()-->calculating character from the assci value(parameter is num)\n"
   ]
  },
  {
   "cell_type": "code",
   "execution_count": 30,
   "metadata": {},
   "outputs": [
    {
     "name": "stdout",
     "output_type": "stream",
     "text": [
      "110\n",
      "78\n",
      "53\n"
     ]
    }
   ],
   "source": [
    "print(ord('n'))\n",
    "print(ord('N'))\n",
    "print(ord('5'))"
   ]
  },
  {
   "cell_type": "code",
   "execution_count": 31,
   "metadata": {},
   "outputs": [
    {
     "name": "stdout",
     "output_type": "stream",
     "text": [
      "A\n"
     ]
    }
   ],
   "source": [
    "print(chr(65))\n"
   ]
  },
  {
   "cell_type": "code",
   "execution_count": 1,
   "metadata": {},
   "outputs": [
    {
     "name": "stdout",
     "output_type": "stream",
     "text": [
      "neha\n",
      "110\n",
      "101\n",
      "104\n",
      "97\n"
     ]
    }
   ],
   "source": [
    "#print ascii value of a character from a given string\n",
    "name=input()\n",
    "for i in name:\n",
    "    print(ord(i))\n",
    "    "
   ]
  },
  {
   "cell_type": "code",
   "execution_count": 2,
   "metadata": {},
   "outputs": [
    {
     "name": "stdout",
     "output_type": "stream",
     "text": [
      "neha\n",
      "110\n",
      "104\n"
     ]
    }
   ],
   "source": [
    "#print only even ascii value\n",
    "name=input()\n",
    "for i in name:\n",
    "    if(ord(i)%2==0):\n",
    "        print(ord(i))\n",
    "        "
   ]
  },
  {
   "cell_type": "code",
   "execution_count": 4,
   "metadata": {},
   "outputs": [
    {
     "name": "stdout",
     "output_type": "stream",
     "text": [
      "neha\n",
      "n ÿ h ë "
     ]
    }
   ],
   "source": [
    "n=input()\n",
    "for i in n:\n",
    "    if(ord(i)%2==0):\n",
    "        print(i,end=' ')\n",
    "    else:\n",
    "        result=(ord(i)*ord(i))/40\n",
    "        result1=int(result)\n",
    "        print(chr(result1),end=' ')\n",
    "\n"
   ]
  },
  {
   "cell_type": "code",
   "execution_count": null,
   "metadata": {},
   "outputs": [],
   "source": [
    "#functions\n",
    "#block of statements/set of statements to perform particular task is function\n",
    "#block of statements will execute and return the result when the function is called\n",
    "#advantage of function is code reusability\n",
    "#function contains \n",
    "#function declaration\n",
    "#body of function\n",
    "#function calling\n",
    "#types of functions\n",
    "#1..builtin functions\n",
    "#max-->for calculating max value\n",
    "#min-->for calculating min value\n",
    "#sum-->for calculating sum\n",
    "#len-->for calculating length\n",
    "#ord\n",
    "#chr\n",
    "#abs-->absolute value\n",
    "#2..userdefine functions\n",
    "#user defined function is a function which is  defined by theuser to perform particular task\n",
    "#1..required arg\n",
    "#2..default arg\n",
    "#3..keyword arg\n",
    "#4..variable length\n",
    "###syntax of functions\n",
    "#  def function_name(arg):#function declaration\n",
    "#body of function\n",
    "#function_name()#function calling  "
   ]
  }
 ],
 "metadata": {
  "kernelspec": {
   "display_name": "Python 3",
   "language": "python",
   "name": "python3"
  },
  "language_info": {
   "codemirror_mode": {
    "name": "ipython",
    "version": 3
   },
   "file_extension": ".py",
   "mimetype": "text/x-python",
   "name": "python",
   "nbconvert_exporter": "python",
   "pygments_lexer": "ipython3",
   "version": "3.8.3"
  }
 },
 "nbformat": 4,
 "nbformat_minor": 4
}
